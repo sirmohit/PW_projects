{
 "cells": [
  {
   "cell_type": "code",
   "execution_count": 2,
   "id": "ab63c59d",
   "metadata": {},
   "outputs": [],
   "source": [
    "from sklearn.datasets import make_classification"
   ]
  },
  {
   "cell_type": "code",
   "execution_count": 5,
   "id": "e6d2139f",
   "metadata": {},
   "outputs": [],
   "source": [
    "from sklearn.linear_model import LogisticRegression\n",
    "X,y = make_classification(n_samples = 1000,n_features = 10,n_informative = 5,n_redundant = 5,n_classes = 3,random_state = 1)"
   ]
  },
  {
   "cell_type": "code",
   "execution_count": 6,
   "id": "b4056672",
   "metadata": {},
   "outputs": [
    {
     "data": {
      "text/plain": [
       "(1000, 10)"
      ]
     },
     "execution_count": 6,
     "metadata": {},
     "output_type": "execute_result"
    }
   ],
   "source": [
    "X.shape"
   ]
  },
  {
   "cell_type": "code",
   "execution_count": 7,
   "id": "8d9672f3",
   "metadata": {},
   "outputs": [
    {
     "data": {
      "text/plain": [
       "(1000,)"
      ]
     },
     "execution_count": 7,
     "metadata": {},
     "output_type": "execute_result"
    }
   ],
   "source": [
    "y.shape"
   ]
  },
  {
   "cell_type": "code",
   "execution_count": 8,
   "id": "cdd7cbb5",
   "metadata": {},
   "outputs": [],
   "source": [
    "# define multinomial logistic regression model for multiclass classification\n",
    "model = LogisticRegression(multi_class = 'ovr',solver = 'lbfgs')\n",
    "\n",
    "# or 'model = LogisticRegression(multi_class = 'multinomial',solver = 'lbfgs')'"
   ]
  },
  {
   "cell_type": "code",
   "execution_count": 9,
   "id": "aee24992",
   "metadata": {},
   "outputs": [],
   "source": [
    "# trian test split\n",
    "from sklearn.model_selection import train_test_split\n",
    "x_train,x_test,y_train,y_test = train_test_split(X,y,test_size = .20,random_state = 42)"
   ]
  },
  {
   "cell_type": "code",
   "execution_count": 13,
   "id": "a22fc2c3",
   "metadata": {},
   "outputs": [
    {
     "data": {
      "text/plain": [
       "(array([1, 1, 0, 2, 1, 2, 2, 2, 0, 0, 2, 0, 0, 1, 1, 0, 1, 2, 0, 0, 1, 0,\n",
       "        2, 1, 0, 1, 1, 0, 2, 2, 0, 1, 0, 1, 0, 2, 0, 2, 1, 0, 0, 0, 1, 0,\n",
       "        1, 1, 0, 0, 0, 2, 1, 2, 0, 2, 2, 2, 0, 1, 1, 0, 0, 2, 0, 2, 0, 1,\n",
       "        2, 1, 0, 0, 2, 2, 2, 1, 1, 2, 2, 2, 2, 2, 0, 1, 0, 1, 2, 0, 2, 2,\n",
       "        1, 1, 2, 0, 0, 0, 1, 0, 0, 0, 1, 0, 0, 1, 0, 1, 0, 0, 1, 0, 2, 1,\n",
       "        0, 1, 1, 2, 2, 2, 1, 2, 0, 0, 2, 1, 0, 1, 1, 1, 0, 0, 0, 0, 0, 0,\n",
       "        2, 2, 2, 2, 2, 2, 0, 2, 1, 1, 0, 1, 2, 0, 1, 0, 2, 0, 0, 1, 1, 0,\n",
       "        2, 0, 1, 0, 2, 1, 2, 0, 1, 1, 0, 1, 2, 1, 0, 2, 0, 1, 1, 2, 1, 0,\n",
       "        2, 1, 1, 0, 1, 0, 1, 0, 2, 0, 0, 0, 0, 0, 1, 0, 0, 1, 1, 0, 0, 0,\n",
       "        1, 0]),\n",
       " array([1, 1, 2, 2, 1, 1, 2, 2, 2, 0, 2, 0, 0, 1, 1, 0, 1, 2, 0, 0, 1, 0,\n",
       "        2, 1, 1, 1, 0, 0, 2, 2, 2, 1, 0, 0, 0, 1, 0, 1, 1, 0, 0, 1, 1, 1,\n",
       "        1, 2, 2, 0, 0, 1, 1, 0, 1, 1, 2, 2, 1, 1, 1, 2, 0, 1, 0, 1, 0, 1,\n",
       "        2, 0, 2, 0, 2, 2, 2, 0, 1, 2, 2, 2, 2, 2, 0, 1, 0, 0, 2, 0, 2, 1,\n",
       "        0, 2, 0, 0, 0, 0, 1, 1, 0, 0, 1, 0, 0, 1, 0, 1, 0, 0, 2, 0, 2, 2,\n",
       "        2, 1, 1, 2, 2, 0, 0, 1, 0, 0, 1, 0, 0, 1, 1, 0, 0, 1, 0, 0, 1, 2,\n",
       "        2, 2, 1, 2, 2, 2, 0, 1, 1, 0, 1, 0, 2, 0, 0, 0, 2, 0, 0, 2, 1, 2,\n",
       "        2, 0, 0, 2, 2, 1, 2, 2, 1, 1, 0, 0, 2, 1, 2, 2, 0, 1, 1, 2, 1, 0,\n",
       "        1, 1, 0, 2, 2, 2, 1, 1, 2, 0, 0, 0, 0, 0, 1, 0, 0, 1, 0, 0, 2, 2,\n",
       "        1, 2]))"
      ]
     },
     "execution_count": 13,
     "metadata": {},
     "output_type": "execute_result"
    }
   ],
   "source": [
    "# Train model\n",
    "model.fit(x_train,y_train)\n",
    "y_pred = model.predict(x_test)\n",
    "y_pred,y_test\n"
   ]
  },
  {
   "cell_type": "code",
   "execution_count": 14,
   "id": "18175442",
   "metadata": {},
   "outputs": [
    {
     "name": "stdout",
     "output_type": "stream",
     "text": [
      "[[56 10 17]\n",
      " [16 41  6]\n",
      " [ 3 13 38]]\n",
      "0.675\n",
      "              precision    recall  f1-score   support\n",
      "\n",
      "           0       0.75      0.67      0.71        83\n",
      "           1       0.64      0.65      0.65        63\n",
      "           2       0.62      0.70      0.66        54\n",
      "\n",
      "    accuracy                           0.68       200\n",
      "   macro avg       0.67      0.68      0.67       200\n",
      "weighted avg       0.68      0.68      0.68       200\n",
      "\n"
     ]
    }
   ],
   "source": [
    "from sklearn.metrics import confusion_matrix,accuracy_score,classification_report\n",
    "print(confusion_matrix(y_pred,y_test))\n",
    "print(accuracy_score(y_pred,y_test))\n",
    "print(classification_report(y_pred,y_test))"
   ]
  },
  {
   "cell_type": "code",
   "execution_count": null,
   "id": "fddd4c32",
   "metadata": {},
   "outputs": [],
   "source": []
  }
 ],
 "metadata": {
  "kernelspec": {
   "display_name": "Python 3 (ipykernel)",
   "language": "python",
   "name": "python3"
  },
  "language_info": {
   "codemirror_mode": {
    "name": "ipython",
    "version": 3
   },
   "file_extension": ".py",
   "mimetype": "text/x-python",
   "name": "python",
   "nbconvert_exporter": "python",
   "pygments_lexer": "ipython3",
   "version": "3.9.13"
  }
 },
 "nbformat": 4,
 "nbformat_minor": 5
}
